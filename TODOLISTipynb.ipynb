{
  "nbformat": 4,
  "nbformat_minor": 0,
  "metadata": {
    "colab": {
      "provenance": [],
      "authorship_tag": "ABX9TyPdRzzyRrKkPyzJTzROaB53",
      "include_colab_link": true
    },
    "kernelspec": {
      "name": "python3",
      "display_name": "Python 3"
    },
    "language_info": {
      "name": "python"
    }
  },
  "cells": [
    {
      "cell_type": "markdown",
      "metadata": {
        "id": "view-in-github",
        "colab_type": "text"
      },
      "source": [
        "<a href=\"https://colab.research.google.com/github/raunakyadav92/TO-DO-LIST/blob/main/TODOLISTipynb.ipynb\" target=\"_parent\"><img src=\"https://colab.research.google.com/assets/colab-badge.svg\" alt=\"Open In Colab\"/></a>"
      ]
    },
    {
      "cell_type": "code",
      "execution_count": null,
      "metadata": {
        "colab": {
          "base_uri": "https://localhost:8080/"
        },
        "id": "7D4J70O6UyRo",
        "outputId": "3f5d06d3-98f5-47d1-b639-deccce782a8d"
      },
      "outputs": [
        {
          "output_type": "stream",
          "name": "stdout",
          "text": [
            "\n",
            "1️⃣ Add Task\n",
            "2️⃣ Show Tasks\n",
            "3️⃣ Remove Task\n",
            "4️⃣ Exit\n"
          ]
        }
      ],
      "source": [
        "tasks = []\n",
        "\n",
        "def add_task(task):\n",
        "    tasks.append(task)\n",
        "    print(f\"✅ Task added: {task}\")\n",
        "\n",
        "def show_tasks():\n",
        "    if not tasks:\n",
        "        print(\"📋 Your To-Do List is empty.\")\n",
        "    else:\n",
        "        print(\"\\n📋 Your To-Do List:\")\n",
        "        for idx, task in enumerate(tasks, 1):\n",
        "            print(f\"{idx}. {task}\")\n",
        "\n",
        "def remove_task(task_no):\n",
        "    if 0 < task_no <= len(tasks):\n",
        "        removed = tasks.pop(task_no - 1)\n",
        "        print(f\"❌ Task removed: {removed}\")\n",
        "    else:\n",
        "        print(\"❌ Invalid task number.\")\n",
        "\n",
        "while True:\n",
        "    print(\"\\n1️⃣ Add Task\\n2️⃣ Show Tasks\\n3️⃣ Remove Task\\n4️⃣ Exit\")\n",
        "    choice = input(\"Enter your choice (1-4): \")\n",
        "\n",
        "    if choice == '1':\n",
        "        task = input(\"Enter the task: \")\n",
        "        add_task(task)\n",
        "    elif choice == '2':\n",
        "        show_tasks()\n",
        "    elif choice == '3':\n",
        "        show_tasks()\n",
        "        task_no = int(input(\"Enter task number to remove: \"))\n",
        "        remove_task(task_no)\n",
        "    elif choice == '4':\n",
        "        print(\"✅ Exiting To-Do List Manager. Have a productive day!\")\n",
        "        break\n",
        "    else:\n",
        "        print(\"❌ Invalid choice. Please try again.\")\n"
      ]
    }
  ]
}